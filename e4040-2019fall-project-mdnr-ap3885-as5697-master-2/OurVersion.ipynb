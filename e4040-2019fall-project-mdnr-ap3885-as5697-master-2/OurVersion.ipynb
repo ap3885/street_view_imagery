{
 "cells": [
  {
   "cell_type": "markdown",
   "metadata": {},
   "source": [
    "# Using our own deeper network"
   ]
  },
  {
   "cell_type": "code",
   "execution_count": 1,
   "metadata": {},
   "outputs": [
    {
     "name": "stderr",
     "output_type": "stream",
     "text": [
      "C:\\Users\\anany\\Anaconda3\\envs\\envTF113\\lib\\site-packages\\tensorflow\\python\\framework\\dtypes.py:526: FutureWarning: Passing (type, 1) or '1type' as a synonym of type is deprecated; in a future version of numpy, it will be understood as (type, (1,)) / '(1,)type'.\n",
      "  _np_qint8 = np.dtype([(\"qint8\", np.int8, 1)])\n",
      "C:\\Users\\anany\\Anaconda3\\envs\\envTF113\\lib\\site-packages\\tensorflow\\python\\framework\\dtypes.py:527: FutureWarning: Passing (type, 1) or '1type' as a synonym of type is deprecated; in a future version of numpy, it will be understood as (type, (1,)) / '(1,)type'.\n",
      "  _np_quint8 = np.dtype([(\"quint8\", np.uint8, 1)])\n",
      "C:\\Users\\anany\\Anaconda3\\envs\\envTF113\\lib\\site-packages\\tensorflow\\python\\framework\\dtypes.py:528: FutureWarning: Passing (type, 1) or '1type' as a synonym of type is deprecated; in a future version of numpy, it will be understood as (type, (1,)) / '(1,)type'.\n",
      "  _np_qint16 = np.dtype([(\"qint16\", np.int16, 1)])\n",
      "C:\\Users\\anany\\Anaconda3\\envs\\envTF113\\lib\\site-packages\\tensorflow\\python\\framework\\dtypes.py:529: FutureWarning: Passing (type, 1) or '1type' as a synonym of type is deprecated; in a future version of numpy, it will be understood as (type, (1,)) / '(1,)type'.\n",
      "  _np_quint16 = np.dtype([(\"quint16\", np.uint16, 1)])\n",
      "C:\\Users\\anany\\Anaconda3\\envs\\envTF113\\lib\\site-packages\\tensorflow\\python\\framework\\dtypes.py:530: FutureWarning: Passing (type, 1) or '1type' as a synonym of type is deprecated; in a future version of numpy, it will be understood as (type, (1,)) / '(1,)type'.\n",
      "  _np_qint32 = np.dtype([(\"qint32\", np.int32, 1)])\n",
      "C:\\Users\\anany\\Anaconda3\\envs\\envTF113\\lib\\site-packages\\tensorflow\\python\\framework\\dtypes.py:535: FutureWarning: Passing (type, 1) or '1type' as a synonym of type is deprecated; in a future version of numpy, it will be understood as (type, (1,)) / '(1,)type'.\n",
      "  np_resource = np.dtype([(\"resource\", np.ubyte, 1)])\n"
     ]
    }
   ],
   "source": [
    "import os\n",
    "import time\n",
    "import numpy as np\n",
    "import tensorflow as tf\n",
    "import h5py\n",
    "import matplotlib.pyplot as plt\n"
   ]
  },
  {
   "cell_type": "code",
   "execution_count": 2,
   "metadata": {},
   "outputs": [],
   "source": [
    "TENSORBOARD_SUMMARIES_DIR = 'tmp/svhn_classifier3_logs'"
   ]
  },
  {
   "cell_type": "code",
   "execution_count": 3,
   "metadata": {},
   "outputs": [
    {
     "name": "stdout",
     "output_type": "stream",
     "text": [
      "Training data:  (63733, 32, 32, 1) (63733, 10)\n",
      "Testing data:  (26032, 32, 32, 1) (26032, 10)\n",
      "Validation data:  (9524, 32, 32, 1) (9524, 10)\n"
     ]
    }
   ],
   "source": [
    "#loading data\n",
    "f = h5py.File('SVHN_grey_norm_ttv.h5','r')\n",
    "\n",
    "X_train = f['X_train'][:]\n",
    "X_test = f['X_test'][:]\n",
    "X_val = f['X_val'][:]\n",
    "y_train = f['y_train'][:]\n",
    "y_test = f['y_test'][:]\n",
    "y_val = f['y_val'][:]\n",
    "\n",
    "f.close()\n",
    "\n",
    "print(\"Training data: \", X_train.shape, y_train.shape)\n",
    "print(\"Testing data: \", X_test.shape, y_test.shape)\n",
    "print(\"Validation data: \", X_val.shape, y_val.shape)"
   ]
  },
  {
   "cell_type": "code",
   "execution_count": 4,
   "metadata": {},
   "outputs": [],
   "source": [
    "#creating log directory\n",
    "def prepare_log_dir():\n",
    "    '''Clears the log file then creates new directory to place\n",
    "        the tensorbard log file.''' \n",
    "    if tf.gfile.Exists(TENSORBOARD_SUMMARIES_DIR):\n",
    "        tf.gfile.DeleteRecursively(TENSORBOARD_SUMMARIES_DIR)\n",
    "    tf.gfile.MakeDirs(TENSORBOARD_SUMMARIES_DIR)"
   ]
  },
  {
   "cell_type": "code",
   "execution_count": 5,
   "metadata": {},
   "outputs": [],
   "source": [
    "#creating next batch for training\n",
    "def batch_gen(X,Y,batchsize = 512):\n",
    "    for i in np.arange(0, Y.shape[0], batchsize):\n",
    "        end = min(X.shape[0], i+batchsize)\n",
    "        yield(X[i:end,:,:,:],Y[i:end,:])"
   ]
  },
  {
   "cell_type": "code",
   "execution_count": 6,
   "metadata": {},
   "outputs": [],
   "source": [
    "#create placeholder for X and y and dropout rate\n",
    "size = 32*32\n",
    "tf.logging.set_verbosity(tf.logging.INFO)\n",
    "\n",
    "x = tf.placeholder(tf.float32, shape = [None,32,32,1], name = 'input_data')\n",
    "y = tf.placeholder(tf.float32, shape = [None,10], name = 'input_labels')\n",
    "y_cls = tf.argmax(y,1)\n",
    "\n",
    "discard_rate = tf.placeholder(tf.float32, name='discard_rate')\n",
    "os.environ['TF_CPP_MIN_LOG_LEVEL']='2'"
   ]
  },
  {
   "cell_type": "code",
   "execution_count": 7,
   "metadata": {},
   "outputs": [],
   "source": [
    "#our network [input]->[conv]->[conv]->[pooling]->[conv]->[conv]->[pooling]->[conv]->[conv]->[pooling]->[dropout]->\n",
    "#[fc+relu]->[fc+relu]->[fc+relu]->[softmax]\n",
    "def cnn_model(features):\n",
    "    #input layer\n",
    "    input_layer = tf.reshape(features, [-1,32,32,1], name = 'reshaped_input')\n",
    "    \n",
    "    #convolution layer 1\n",
    "    conv_layer_1 = tf.layers.conv2d(inputs = input_layer, filters = 48, kernel_size = [5,5],\n",
    "                                   padding = \"same\", activation = tf.nn.relu)\n",
    "    \n",
    "    #convolution layer 2\n",
    "    \n",
    "    conv_layer_2 = tf.layers.conv2d(inputs = conv_layer_1, filters = 48, kernel_size = [5,5],\n",
    "                                   padding = \"same\", activation = tf.nn.relu)\n",
    "    \n",
    "    #pooling layer 1\n",
    "    pool_layer_1 = tf.layers.max_pooling2d(inputs = conv_layer_2, pool_size = [2,2], strides = 2)\n",
    "    \n",
    "    #convolution layer 3\n",
    "    conv_layer_3 = tf.layers.conv2d(inputs = pool_layer_1, filters = 64, kernel_size = [5,5],\n",
    "                                   padding = \"same\", activation = tf.nn.relu)\n",
    "    \n",
    "    #convolution layer 4\n",
    "    conv_layer_4 = tf.layers.conv2d(inputs = conv_layer_3, filters = 64, kernel_size = [5,5],\n",
    "                                   padding = \"same\", activation = tf.nn.relu)\n",
    "    \n",
    "    #pooling layer 2\n",
    "    pool_layer_2 = tf.layers.max_pooling2d(inputs = conv_layer_4, pool_size = [2,2], strides = 2)\n",
    "    \n",
    "    #convolution layer 5\n",
    "    conv_layer_5 = tf.layers.conv2d(inputs = pool_layer_2, filters = 128, kernel_size = [5,5],\n",
    "                                   padding = \"same\", activation = tf.nn.relu)\n",
    "    \n",
    "    #convolution layer 6\n",
    "    \n",
    "    conv_layer_6 = tf.layers.conv2d(inputs = conv_layer_5, filters = 128, kernel_size = [5,5],\n",
    "                                   padding = \"same\", activation = tf.nn.relu)\n",
    "    \n",
    "    #pooling layer 3\n",
    "    pool_layer_3 = tf.layers.max_pooling2d(inputs = conv_layer_6, pool_size = [2,2], strides = 2)\n",
    "    \n",
    "    #fully connected layer\n",
    "    #flatten\n",
    "    flat_layer = tf.reshape(pool_layer_3, [-1, 4 * 4 * 128])\n",
    "    \n",
    "    #dense layer 1\n",
    "    dense_layer_1 = tf.layers.dense(inputs = flat_layer, units = 256, activation = tf.nn.relu)\n",
    "    \n",
    "    #dense layer 2\n",
    "    dense_layer_2 = tf.layers.dense(inputs = dense_layer_1, units = 256, activation = tf.nn.relu)\n",
    "    \n",
    "    #dense layer 3\n",
    "    dense_layer_3 = tf.layers.dense(inputs = dense_layer_2, units = 256, activation = tf.nn.relu)\n",
    "    \n",
    "    #dropout layer\n",
    "    dropout_layer = tf.layers.dropout(inputs = dense_layer_3, rate = discard_rate)\n",
    "    \n",
    "    #logits layer\n",
    "    logits = tf.layers.dense(inputs = dropout_layer, units = 10)\n",
    "    \n",
    "    return logits\n",
    "    \n",
    "    "
   ]
  },
  {
   "cell_type": "code",
   "execution_count": 8,
   "metadata": {},
   "outputs": [],
   "source": [
    "#initialize variables for training\n",
    "epochs = 4\n",
    "num_examples = X_train.shape[0]"
   ]
  },
  {
   "cell_type": "code",
   "execution_count": 9,
   "metadata": {},
   "outputs": [],
   "source": [
    "prepare_log_dir()"
   ]
  },
  {
   "cell_type": "code",
   "execution_count": 10,
   "metadata": {},
   "outputs": [
    {
     "name": "stdout",
     "output_type": "stream",
     "text": [
      "WARNING:tensorflow:From <ipython-input-7-822b95b89599>:8: conv2d (from tensorflow.python.layers.convolutional) is deprecated and will be removed in a future version.\n",
      "Instructions for updating:\n",
      "Use keras.layers.conv2d instead.\n",
      "WARNING:tensorflow:From C:\\Users\\anany\\Anaconda3\\envs\\envTF113\\lib\\site-packages\\tensorflow\\python\\framework\\op_def_library.py:263: colocate_with (from tensorflow.python.framework.ops) is deprecated and will be removed in a future version.\n",
      "Instructions for updating:\n",
      "Colocations handled automatically by placer.\n",
      "WARNING:tensorflow:From <ipython-input-7-822b95b89599>:16: max_pooling2d (from tensorflow.python.layers.pooling) is deprecated and will be removed in a future version.\n",
      "Instructions for updating:\n",
      "Use keras.layers.max_pooling2d instead.\n",
      "WARNING:tensorflow:From <ipython-input-7-822b95b89599>:46: dense (from tensorflow.python.layers.core) is deprecated and will be removed in a future version.\n",
      "Instructions for updating:\n",
      "Use keras.layers.dense instead.\n",
      "WARNING:tensorflow:From <ipython-input-7-822b95b89599>:55: dropout (from tensorflow.python.layers.core) is deprecated and will be removed in a future version.\n",
      "Instructions for updating:\n",
      "Use keras.layers.dropout instead.\n",
      "WARNING:tensorflow:From C:\\Users\\anany\\Anaconda3\\envs\\envTF113\\lib\\site-packages\\tensorflow\\python\\ops\\losses\\losses_impl.py:209: to_float (from tensorflow.python.ops.math_ops) is deprecated and will be removed in a future version.\n",
      "Instructions for updating:\n",
      "Use tf.cast instead.\n"
     ]
    }
   ],
   "source": [
    "#predictor model\n",
    "prediction = cnn_model(x)\n",
    "prediction_cls = tf.argmax(prediction,1)\n",
    "\n",
    "#softmax loss\n",
    "loss = tf.reduce_mean(tf.losses.softmax_cross_entropy(onehot_labels = y, logits = prediction))\n",
    "\n",
    "#We use Adam Optimizer\n",
    "optimizer = tf.train.AdamOptimizer().minimize(loss)"
   ]
  },
  {
   "cell_type": "code",
   "execution_count": 11,
   "metadata": {},
   "outputs": [],
   "source": [
    "#Prediction and accuracy\n",
    "correct_label = tf.equal(prediction_cls, y_cls)\n",
    "\n",
    "accuracy = tf.reduce_mean(tf.cast(correct_label, tf.float32))"
   ]
  },
  {
   "cell_type": "code",
   "execution_count": 12,
   "metadata": {},
   "outputs": [],
   "source": [
    "#initializing tensorflow session\n",
    "sesh = tf.Session()\n",
    "sesh.run(tf.global_variables_initializer())"
   ]
  },
  {
   "cell_type": "code",
   "execution_count": 13,
   "metadata": {},
   "outputs": [],
   "source": [
    "#SAVER OBJECT\n",
    "saver = tf.train.Saver()\n",
    "\n",
    "save_dir = 'checkpnts/'\n",
    "\n",
    "# Create directory if it does not exist\n",
    "if not os.path.exists(save_dir):\n",
    "    os.makedirs(save_dir)\n",
    "    \n",
    "save_path = os.path.join(save_dir, 'svhn_convnet_grey_our_v2')"
   ]
  },
  {
   "cell_type": "code",
   "execution_count": 15,
   "metadata": {},
   "outputs": [
    {
     "name": "stdout",
     "output_type": "stream",
     "text": [
      "Starting to train the model\n",
      "Epoch 1 \n",
      "\n",
      "Step 0\n",
      "batchloss 2.2598906\n",
      "accuracy 17.7734375 %\n",
      "Validation accuracy:  19.361612767744646 %\n",
      "Step 20\n",
      "batchloss 2.255509\n",
      "accuracy 17.578125 %\n",
      "Validation accuracy:  19.361612767744646 %\n",
      "Step 40\n",
      "batchloss 2.2578843\n",
      "accuracy 20.8984375 %\n",
      "Validation accuracy:  20.00209995800084 %\n",
      "Step 60\n",
      "batchloss 2.076266\n",
      "accuracy 27.9296875 %\n",
      "Validation accuracy:  28.73792524149517 %\n",
      "Step 80\n",
      "batchloss 1.7359385\n",
      "accuracy 41.015625 %\n",
      "Validation accuracy:  47.31205375892482 %\n",
      "Step 100\n",
      "batchloss 1.2739391\n",
      "accuracy 55.2734375 %\n",
      "Validation accuracy:  57.087358252834946 %\n",
      "Step 120\n",
      "batchloss 0.89835083\n",
      "accuracy 66.6015625 %\n",
      "Validation accuracy:  69.21461570768585 %\n",
      " Trained Epoch  1 / 4\n",
      "Starting to train the model\n",
      "Epoch 2 \n",
      "\n",
      "Step 0\n",
      "batchloss 0.969795\n",
      "accuracy 70.1171875 %\n",
      "Validation accuracy:  70.76858462830744 %\n",
      "Step 20\n",
      "batchloss 0.7178001\n",
      "accuracy 77.1484375 %\n",
      "Validation accuracy:  77.89794204115918 %\n",
      "Step 40\n",
      "batchloss 0.63136077\n",
      "accuracy 78.515625 %\n",
      "Validation accuracy:  82.04535909281815 %\n",
      "Step 60\n",
      "batchloss 0.48243597\n",
      "accuracy 83.3984375 %\n",
      "Validation accuracy:  83.68332633347333 %\n",
      "Step 80\n",
      "batchloss 0.4612136\n",
      "accuracy 84.765625 %\n",
      "Validation accuracy:  86.3922721545569 %\n",
      "Step 100\n",
      "batchloss 0.44857225\n",
      "accuracy 84.1796875 %\n",
      "Validation accuracy:  86.8752624947501 %\n",
      "Step 120\n",
      "batchloss 0.36122447\n",
      "accuracy 88.0859375 %\n",
      "Validation accuracy:  88.22973540529189 %\n",
      " Trained Epoch  2 / 4\n",
      "Starting to train the model\n",
      "Epoch 3 \n",
      "\n",
      "Step 0\n",
      "batchloss 0.37386605\n",
      "accuracy 90.4296875 %\n",
      "Validation accuracy:  88.39773204535909 %\n",
      "Step 20\n",
      "batchloss 0.39369622\n",
      "accuracy 88.8671875 %\n",
      "Validation accuracy:  87.7887442251155 %\n",
      "Step 40\n",
      "batchloss 0.32141858\n",
      "accuracy 90.4296875 %\n",
      "Validation accuracy:  89.83620327593448 %\n",
      "Step 60\n",
      "batchloss 0.3072536\n",
      "accuracy 90.234375 %\n",
      "Validation accuracy:  90.08819823603528 %\n",
      "Step 80\n",
      "batchloss 0.26595277\n",
      "accuracy 91.9921875 %\n",
      "Validation accuracy:  90.58168836623267 %\n",
      "Step 100\n",
      "batchloss 0.2978645\n",
      "accuracy 91.015625 %\n",
      "Validation accuracy:  90.65518689626208 %\n",
      "Step 120\n",
      "batchloss 0.25867474\n",
      "accuracy 91.6015625 %\n",
      "Validation accuracy:  90.83368332633347 %\n",
      " Trained Epoch  3 / 4\n",
      "Starting to train the model\n",
      "Epoch 4 \n",
      "\n",
      "Step 0\n",
      "batchloss 0.28501064\n",
      "accuracy 92.578125 %\n",
      "Validation accuracy:  90.60268794624108 %\n",
      "Step 20\n",
      "batchloss 0.30159986\n",
      "accuracy 90.8203125 %\n",
      "Validation accuracy:  91.03317933641327 %\n",
      "Step 40\n",
      "batchloss 0.2547301\n",
      "accuracy 93.75 %\n",
      "Validation accuracy:  91.52666946661067 %\n",
      "Step 60\n",
      "batchloss 0.23584166\n",
      "accuracy 92.3828125 %\n",
      "Validation accuracy:  91.52666946661067 %\n",
      "Step 80\n",
      "batchloss 0.2528193\n",
      "accuracy 92.7734375 %\n",
      "Validation accuracy:  91.19067618647627 %\n",
      "Step 100\n",
      "batchloss 0.2561686\n",
      "accuracy 92.1875 %\n",
      "Validation accuracy:  92.23015539689206 %\n",
      "Step 120\n",
      "batchloss 0.20471111\n",
      "accuracy 93.5546875 %\n",
      "Validation accuracy:  91.72616547669047 %\n",
      " Trained Epoch  4 / 4\n",
      "Test Accuracy : 92.46696373693915 %\n"
     ]
    }
   ],
   "source": [
    "#training\n",
    "#batch size\n",
    "batch_size = 512\n",
    "#dropout rate\n",
    "dropout_rate = 0.3\n",
    "\n",
    "loss_train = []\n",
    "loss_val = []\n",
    "#start training\n",
    "t0 = time.time()\n",
    "for epoch in range(epochs):\n",
    "    print(\"Starting to train the model\")\n",
    "    epoch_loss = 0\n",
    "    print(\"Epoch\", epoch+1,'\\n')\n",
    "    step = 0\n",
    "    #training\n",
    "    for (ex, ey) in batch_gen(X_train, y_train, 512):\n",
    "        _, train_acc, l = sesh.run([optimizer, accuracy, loss],feed_dict = {x: ex, y: ey, discard_rate: dropout_rate})\n",
    "        loss_train.append(l)\n",
    "        \n",
    "        if (step % 20 == 0):\n",
    "            print(\"Step\", step)\n",
    "            print(\"batchloss\", l)\n",
    "            print(\"accuracy\", train_acc*100,'%')\n",
    "            \n",
    "            #validation\n",
    "            acc = 0\n",
    "            for (ex,ey) in batch_gen(X_val, y_val, 512):\n",
    "                correct, lc= sesh.run([correct_label,loss],feed_dict = {x:ex, y:ey, discard_rate: dropout_rate})\n",
    "                loss_val.append(lc)\n",
    "                acc += np.sum(correct[correct==True])\n",
    "            print(\"Validation accuracy: \", acc*100/y_val.shape[0],'%')\n",
    "        step += 1\n",
    "        \n",
    "    print(\" Trained Epoch \", epoch+1, \"/\",epochs)\n",
    "\n",
    "#testing\n",
    "acctest = 0.0\n",
    "for (ex,ey) in batch_gen(X_test, y_test, 512):\n",
    "    correct = sesh.run([correct_label], feed_dict={x: ex, y: ey, discard_rate: 0.0})\n",
    "    acctest+= np.sum(correct[correct == True])\n",
    "print('Test Accuracy :' , acctest*100.0/y_test.shape[0], '%')\n",
    "\n",
    "        \n",
    "    "
   ]
  },
  {
   "cell_type": "code",
   "execution_count": 16,
   "metadata": {},
   "outputs": [
    {
     "data": {
      "text/plain": [
       "'checkpnts/svhn_convnet_grey_our_v2'"
      ]
     },
     "execution_count": 16,
     "metadata": {},
     "output_type": "execute_result"
    }
   ],
   "source": [
    "#save checkpoint\n",
    "saver.save(sess=sesh, save_path=save_path)"
   ]
  },
  {
   "cell_type": "code",
   "execution_count": 19,
   "metadata": {},
   "outputs": [
    {
     "data": {
      "text/plain": [
       "<matplotlib.legend.Legend at 0x2871838b0f0>"
      ]
     },
     "execution_count": 19,
     "metadata": {},
     "output_type": "execute_result"
    },
    {
     "data": {
      "image/png": "[encoded data removed]",
      "text/plain": [
       "<Figure size 432x288 with 1 Axes>"
      ]
     },
     "metadata": {
      "needs_background": "light"
     },
     "output_type": "display_data"
    }
   ],
   "source": [
    "#plot training and validation loss history\n",
    "import matplotlib.pyplot as plt\n",
    "plt.plot(loss_train ,'r', label = 'Training loss history')\n",
    "plt.plot(loss_val, 'g', label = 'Validation loss history')\n",
    "plt.xlabel(\"Total Step\")\n",
    "plt.ylabel(\"Loss\")\n",
    "plt.legend()"
   ]
  }
 ],
 "metadata": {
  "kernelspec": {
   "display_name": "Python 3",
   "language": "python",
   "name": "python3"
  },
  "language_info": {
   "codemirror_mode": {
    "name": "ipython",
    "version": 3
   },
   "file_extension": ".py",
   "mimetype": "text/x-python",
   "name": "python",
   "nbconvert_exporter": "python",
   "pygments_lexer": "ipython3",
   "version": "3.6.9"
  }
 },
 "nbformat": 4,
 "nbformat_minor": 2
}
